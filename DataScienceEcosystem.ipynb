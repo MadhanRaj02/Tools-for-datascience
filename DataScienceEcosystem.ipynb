{
 "cells": [
  {
   "cell_type": "markdown",
   "id": "c6c9e00f",
   "metadata": {},
   "source": [
    "# Data Science Tools and Ecosystem"
   ]
  },
  {
   "cell_type": "markdown",
   "id": "ae303021",
   "metadata": {},
   "source": [
    "In this notebook, Data Science Tools and Ecosystem are summarized."
   ]
  },
  {
   "cell_type": "markdown",
   "id": "42e4bc76",
   "metadata": {},
   "source": [
    "**Objectives:**  \n",
    " \n",
    "- Popular programming lanuages used by data scientics\n",
    "- Commonly used libraries\n",
    "- Commonly used data science tools"
   ]
  },
  {
   "cell_type": "markdown",
   "id": "207ba940",
   "metadata": {},
   "source": [
    "Some of the popular languages that Data Scientists use are:  \n",
    "1. Python  \n",
    "2. R  \n",
    "3. SQL  \n",
    "4. Java  "
   ]
  },
  {
   "cell_type": "markdown",
   "id": "fa967bab",
   "metadata": {},
   "source": [
    "Some of the commonly used libraries used by Data Scientists include:  \n",
    "1. Pandas  \n",
    "2. NumPy  \n",
    "3. Scikit-Learn  \n",
    "4. Keras  "
   ]
  },
  {
   "cell_type": "markdown",
   "id": "df6010ab",
   "metadata": {},
   "source": [
    "| Data Science Tools|\n",
    "| --- |\n",
    "RStudio\n",
    "Apache Spark\n",
    "TensorFlow\n",
    "Apache Hadoop\n"
   ]
  },
  {
   "cell_type": "markdown",
   "id": "d678b5be",
   "metadata": {},
   "source": [
    "### Below are a few examples of evaluating arithmetic expressions in Python"
   ]
  },
  {
   "cell_type": "code",
   "execution_count": 1,
   "id": "38fb817b",
   "metadata": {},
   "outputs": [
    {
     "data": {
      "text/plain": [
       "17"
      ]
     },
     "execution_count": 1,
     "metadata": {},
     "output_type": "execute_result"
    }
   ],
   "source": [
    "#This a simple arithmetic expression to mutiply then add integers\n",
    "(3*4)+5"
   ]
  },
  {
   "cell_type": "code",
   "execution_count": 4,
   "id": "efe1dc7d",
   "metadata": {},
   "outputs": [
    {
     "data": {
      "text/plain": [
       "3.3333333333333335"
      ]
     },
     "execution_count": 4,
     "metadata": {},
     "output_type": "execute_result"
    }
   ],
   "source": [
    "#This will convert 200 minutes to hours by diving by 60\n",
    "200/60"
   ]
  },
  {
   "cell_type": "markdown",
   "id": "919a818e",
   "metadata": {},
   "source": [
    "## Author  \n",
    "Madhan Raj M"
   ]
  }
 ],
 "metadata": {
  "kernelspec": {
   "display_name": "Python 3 (ipykernel)",
   "language": "python",
   "name": "python3"
  },
  "language_info": {
   "codemirror_mode": {
    "name": "ipython",
    "version": 3
   },
   "file_extension": ".py",
   "mimetype": "text/x-python",
   "name": "python",
   "nbconvert_exporter": "python",
   "pygments_lexer": "ipython3",
   "version": "3.11.5"
  }
 },
 "nbformat": 4,
 "nbformat_minor": 5
}
